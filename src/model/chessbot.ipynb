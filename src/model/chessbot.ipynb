{
 "cells": [
  {
   "cell_type": "code",
   "execution_count": 1,
   "metadata": {},
   "outputs": [
    {
     "name": "stdout",
     "output_type": "stream",
     "text": [
      "Using device: cuda\n"
     ]
    },
    {
     "data": {
      "text/plain": [
       "True"
      ]
     },
     "execution_count": 1,
     "metadata": {},
     "output_type": "execute_result"
    }
   ],
   "source": [
    "import chess\n",
    "import numpy as np\n",
    "import pandas as pd\n",
    "from sklearn.model_selection import train_test_split\n",
    "from sklearn.preprocessing import StandardScaler\n",
    "import torch\n",
    "import torch.nn as nn\n",
    "import torch.optim as optim\n",
    "from torch.utils.data import DataLoader, TensorDataset\n",
    "device = torch.device(\"cuda\" if torch.cuda.is_available() else \"cpu\")\n",
    "print(f\"Using device: {device}\")\n",
    "torch.cuda.is_available()"
   ]
  },
  {
   "cell_type": "markdown",
   "metadata": {},
   "source": []
  },
  {
   "cell_type": "code",
   "execution_count": null,
   "metadata": {},
   "outputs": [],
   "source": [
    "def filter_high_elo_games(games, min_elo=2000):\n",
    "    high_elo_games = []\n",
    "    for game in games:\n",
    "        if game.headers[\"WhiteElo\"] >= min_elo and game.headers[\"BlackElo\"] >= min_elo:\n",
    "            high_elo_games.append(game)\n",
    "    return high_elo_games\n"
   ]
  },
  {
   "cell_type": "code",
   "execution_count": null,
   "metadata": {},
   "outputs": [],
   "source": [
    "class ChessDataset(Dataset):\n",
    "    def __init__(self, games):\n",
    "        self.data = []\n",
    "        for game in games:\n",
    "            board = game.board()\n",
    "            for move in game.mainline_moves():\n",
    "                self.data.append((board.copy(), move))\n",
    "                board.push(move)\n",
    "    \n",
    "    def __len__(self):\n",
    "        return len(self.data)\n",
    "    \n",
    "    def __getitem__(self, idx):\n",
    "        board, move = self.data[idx]\n",
    "        return self.board_to_tensor(board), self.move_to_tensor(move)\n",
    "    \n",
    "    def board_to_tensor(self, board):\n",
    "        # Convert board to tensor (12x8x8 for the 12 piece types)\n",
    "        # Placeholder implementation\n",
    "        return torch.zeros(12, 8, 8).to(device)\n",
    "    \n",
    "    def move_to_tensor(self, move):\n",
    "        # Convert move to tensor (4672 possible moves)\n",
    "        # Placeholder implementation\n",
    "        return torch.zeros(4672).to(device)"
   ]
  }
 ],
 "metadata": {
  "kernelspec": {
   "display_name": "Python 3",
   "language": "python",
   "name": "python3"
  },
  "language_info": {
   "codemirror_mode": {
    "name": "ipython",
    "version": 3
   },
   "file_extension": ".py",
   "mimetype": "text/x-python",
   "name": "python",
   "nbconvert_exporter": "python",
   "pygments_lexer": "ipython3",
   "version": "3.12.4"
  }
 },
 "nbformat": 4,
 "nbformat_minor": 2
}
